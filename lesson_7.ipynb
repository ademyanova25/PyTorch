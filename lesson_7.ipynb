{
 "cells": [
  {
   "cell_type": "code",
   "execution_count": 63,
   "id": "8d16f867",
   "metadata": {},
   "outputs": [],
   "source": [
    "import numpy as np\n",
    "import pandas as pd\n",
    "\n",
    "from sklearn.model_selection import train_test_split\n",
    "import matplotlib.pyplot as plt\n",
    "\n",
    "import nltk \n",
    "from nltk.corpus import stopwords\n",
    "from nltk.tokenize import word_tokenize\n",
    "\n",
    "\n",
    "import os\n",
    "import re\n",
    "from string import punctuation\n",
    "\n",
    "from nltk.stem.snowball import SnowballStemmer\n",
    "from pymorphy2 import MorphAnalyzer\n",
    "\n",
    "import random\n",
    "\n",
    "import torch\n",
    "from torch import nn, optim\n",
    "from torchvision import transforms"
   ]
  },
  {
   "cell_type": "code",
   "execution_count": 64,
   "id": "1f5ba1f2",
   "metadata": {},
   "outputs": [],
   "source": [
    "df = pd.read_csv('less_7/train.csv')"
   ]
  },
  {
   "cell_type": "code",
   "execution_count": 65,
   "id": "a2c79cb6",
   "metadata": {},
   "outputs": [
    {
     "data": {
      "text/html": [
       "<div>\n",
       "<style scoped>\n",
       "    .dataframe tbody tr th:only-of-type {\n",
       "        vertical-align: middle;\n",
       "    }\n",
       "\n",
       "    .dataframe tbody tr th {\n",
       "        vertical-align: top;\n",
       "    }\n",
       "\n",
       "    .dataframe thead th {\n",
       "        text-align: right;\n",
       "    }\n",
       "</style>\n",
       "<table border=\"1\" class=\"dataframe\">\n",
       "  <thead>\n",
       "    <tr style=\"text-align: right;\">\n",
       "      <th></th>\n",
       "      <th>id</th>\n",
       "      <th>label</th>\n",
       "      <th>tweet</th>\n",
       "    </tr>\n",
       "  </thead>\n",
       "  <tbody>\n",
       "    <tr>\n",
       "      <th>0</th>\n",
       "      <td>1</td>\n",
       "      <td>0</td>\n",
       "      <td>@user when a father is dysfunctional and is s...</td>\n",
       "    </tr>\n",
       "    <tr>\n",
       "      <th>1</th>\n",
       "      <td>2</td>\n",
       "      <td>0</td>\n",
       "      <td>@user @user thanks for #lyft credit i can't us...</td>\n",
       "    </tr>\n",
       "    <tr>\n",
       "      <th>2</th>\n",
       "      <td>3</td>\n",
       "      <td>0</td>\n",
       "      <td>bihday your majesty</td>\n",
       "    </tr>\n",
       "    <tr>\n",
       "      <th>3</th>\n",
       "      <td>4</td>\n",
       "      <td>0</td>\n",
       "      <td>#model   i love u take with u all the time in ...</td>\n",
       "    </tr>\n",
       "    <tr>\n",
       "      <th>4</th>\n",
       "      <td>5</td>\n",
       "      <td>0</td>\n",
       "      <td>factsguide: society now    #motivation</td>\n",
       "    </tr>\n",
       "  </tbody>\n",
       "</table>\n",
       "</div>"
      ],
      "text/plain": [
       "   id  label                                              tweet\n",
       "0   1      0   @user when a father is dysfunctional and is s...\n",
       "1   2      0  @user @user thanks for #lyft credit i can't us...\n",
       "2   3      0                                bihday your majesty\n",
       "3   4      0  #model   i love u take with u all the time in ...\n",
       "4   5      0             factsguide: society now    #motivation"
      ]
     },
     "execution_count": 65,
     "metadata": {},
     "output_type": "execute_result"
    }
   ],
   "source": [
    "df.head()"
   ]
  },
  {
   "cell_type": "code",
   "execution_count": 66,
   "id": "edd3ea68",
   "metadata": {},
   "outputs": [],
   "source": [
    "df = df[['label','tweet']]"
   ]
  },
  {
   "cell_type": "code",
   "execution_count": 67,
   "id": "67c19481",
   "metadata": {},
   "outputs": [],
   "source": [
    "df = df.drop_duplicates(keep='first')"
   ]
  },
  {
   "cell_type": "code",
   "execution_count": 68,
   "id": "9c4df279",
   "metadata": {},
   "outputs": [],
   "source": [
    "stop_words = stopwords.words('english')\n",
    "stemmer = SnowballStemmer(language='english')"
   ]
  },
  {
   "cell_type": "code",
   "execution_count": 69,
   "id": "e7d2d22c",
   "metadata": {},
   "outputs": [],
   "source": [
    "def transformer(text):\n",
    "    text = text.lower()\n",
    "    text = re.sub(r'[^\\w\\s]', ' ', text)\n",
    "    text = re.sub(r'ð', ' ', text)\n",
    "    filtered_tokens = []\n",
    "    tokens = [word for sent in nltk.sent_tokenize(text) for word in nltk.word_tokenize(sent)]\n",
    "    for token in tokens:\n",
    "        if token not in stop_words and token != \" \" and token.strip() not in punctuation:\n",
    "            if re.search('[a-zA-Z]', token):\n",
    "                filtered_tokens.append(token)\n",
    "    stems = [stemmer.stem(t) for t in filtered_tokens if t not in stop_words]\n",
    "    new_text = ' '.join(stems)\n",
    "\n",
    "    return new_text"
   ]
  },
  {
   "cell_type": "code",
   "execution_count": 70,
   "id": "00dc8c74",
   "metadata": {},
   "outputs": [],
   "source": [
    "train_corpus = \" \".join(df[\"tweet\"])\n",
    "train_corpus = train_corpus.lower()"
   ]
  },
  {
   "cell_type": "code",
   "execution_count": 71,
   "id": "3545ad76",
   "metadata": {},
   "outputs": [],
   "source": [
    "tokens = [word for sent in nltk.sent_tokenize(train_corpus) for word in nltk.word_tokenize(sent)]"
   ]
  },
  {
   "cell_type": "code",
   "execution_count": 72,
   "id": "e815196c",
   "metadata": {},
   "outputs": [],
   "source": [
    "max_words = 2000\n",
    "max_len = 40\n",
    "num_classes = 1"
   ]
  },
  {
   "cell_type": "code",
   "execution_count": 73,
   "id": "545afaf8",
   "metadata": {},
   "outputs": [],
   "source": [
    "from nltk.probability import FreqDist\n",
    "dist = FreqDist(tokens)\n",
    "tokens_filtered_top = [pair[0] for pair in dist.most_common(max_words-1)]"
   ]
  },
  {
   "cell_type": "code",
   "execution_count": 74,
   "id": "2d47ed93",
   "metadata": {},
   "outputs": [],
   "source": [
    "vocabulary = {v: k for k, v in dict(enumerate(tokens_filtered_top, 1)).items()}"
   ]
  },
  {
   "cell_type": "code",
   "execution_count": 75,
   "id": "1fc8b831",
   "metadata": {},
   "outputs": [],
   "source": [
    "def text_to_sequence(text, maxlen):\n",
    "    result = []\n",
    "    tokens = word_tokenize(text.lower())\n",
    "    tokens_filtered = [word for word in tokens if word.isalnum()]\n",
    "    for word in tokens_filtered:\n",
    "        if word in vocabulary:\n",
    "            result.append(vocabulary[word])\n",
    "    padding = [0]*(maxlen-len(result))\n",
    "    return padding + result[-maxlen:]"
   ]
  },
  {
   "cell_type": "code",
   "execution_count": 76,
   "id": "bb0a6483",
   "metadata": {},
   "outputs": [],
   "source": [
    "df['tweet'] = df['tweet'].apply(transformer)"
   ]
  },
  {
   "cell_type": "code",
   "execution_count": 77,
   "id": "212a30c7",
   "metadata": {},
   "outputs": [
    {
     "data": {
      "text/html": [
       "<div>\n",
       "<style scoped>\n",
       "    .dataframe tbody tr th:only-of-type {\n",
       "        vertical-align: middle;\n",
       "    }\n",
       "\n",
       "    .dataframe tbody tr th {\n",
       "        vertical-align: top;\n",
       "    }\n",
       "\n",
       "    .dataframe thead th {\n",
       "        text-align: right;\n",
       "    }\n",
       "</style>\n",
       "<table border=\"1\" class=\"dataframe\">\n",
       "  <thead>\n",
       "    <tr style=\"text-align: right;\">\n",
       "      <th></th>\n",
       "      <th>label</th>\n",
       "      <th>tweet</th>\n",
       "    </tr>\n",
       "  </thead>\n",
       "  <tbody>\n",
       "    <tr>\n",
       "      <th>0</th>\n",
       "      <td>0</td>\n",
       "      <td>user father dysfunct selfish drag kid dysfunct...</td>\n",
       "    </tr>\n",
       "    <tr>\n",
       "      <th>1</th>\n",
       "      <td>0</td>\n",
       "      <td>user user thank lyft credit use caus offer whe...</td>\n",
       "    </tr>\n",
       "    <tr>\n",
       "      <th>2</th>\n",
       "      <td>0</td>\n",
       "      <td>bihday majesti</td>\n",
       "    </tr>\n",
       "    <tr>\n",
       "      <th>3</th>\n",
       "      <td>0</td>\n",
       "      <td>model love u take u time ur</td>\n",
       "    </tr>\n",
       "    <tr>\n",
       "      <th>4</th>\n",
       "      <td>0</td>\n",
       "      <td>factsguid societi motiv</td>\n",
       "    </tr>\n",
       "  </tbody>\n",
       "</table>\n",
       "</div>"
      ],
      "text/plain": [
       "   label                                              tweet\n",
       "0      0  user father dysfunct selfish drag kid dysfunct...\n",
       "1      0  user user thank lyft credit use caus offer whe...\n",
       "2      0                                     bihday majesti\n",
       "3      0                        model love u take u time ur\n",
       "4      0                            factsguid societi motiv"
      ]
     },
     "execution_count": 77,
     "metadata": {},
     "output_type": "execute_result"
    }
   ],
   "source": [
    "df.head()"
   ]
  },
  {
   "cell_type": "code",
   "execution_count": 78,
   "id": "6e16be42",
   "metadata": {},
   "outputs": [],
   "source": [
    "X = df.drop('label', axis = 1)\n",
    "y = df['label']"
   ]
  },
  {
   "cell_type": "code",
   "execution_count": 79,
   "id": "fc4461d6",
   "metadata": {},
   "outputs": [],
   "source": [
    "X_train, X_valid, y_train, y_valid = train_test_split(X, y, random_state=42, test_size=0.33)"
   ]
  },
  {
   "cell_type": "code",
   "execution_count": 80,
   "id": "a2abde92",
   "metadata": {},
   "outputs": [],
   "source": [
    "X_train = np.asarray([text_to_sequence(text, max_len) for text in X_train['tweet']])\n",
    "X_valid = np.asarray([text_to_sequence(text, max_len) for text in X_valid['tweet']])"
   ]
  },
  {
   "cell_type": "code",
   "execution_count": 81,
   "id": "b554797e",
   "metadata": {},
   "outputs": [],
   "source": [
    "seed = 0\n",
    "\n",
    "random.seed(seed)\n",
    "np.random.seed(seed)\n",
    "torch.manual_seed(seed)\n",
    "torch.cuda.manual_seed(seed)\n",
    "torch.backends.cudnn.deterministic = True"
   ]
  },
  {
   "cell_type": "code",
   "execution_count": 82,
   "id": "b3380b50",
   "metadata": {},
   "outputs": [],
   "source": [
    "from torch.utils.data import DataLoader, Dataset\n",
    "\n",
    "class DataWrapper(Dataset):\n",
    "    def __init__(self, data, target=None, transform=None):\n",
    "        self.data = torch.from_numpy(data).long()\n",
    "        if target is not None:\n",
    "            self.target = torch.from_numpy(target).long()\n",
    "        self.transform = transform\n",
    "        \n",
    "    def __getitem__(self, index):\n",
    "        x = self.data[index]\n",
    "        y = self.target[index] if self.target is not None else None\n",
    "        \n",
    "        if self.transform:\n",
    "            x = self.transform(x)\n",
    "            \n",
    "        return x, y\n",
    "    \n",
    "    def __len__(self):\n",
    "        return len(self.data)"
   ]
  },
  {
   "cell_type": "code",
   "execution_count": 83,
   "id": "9d926a02",
   "metadata": {},
   "outputs": [],
   "source": [
    "from torch import nn\n",
    "\n",
    "\n",
    "class RNNFixedLen(nn.Module) :\n",
    "    def __init__(self, vocab_size, embedding_dim=128, hidden_dim=128, use_last=True):\n",
    "        super().__init__()\n",
    "        self.use_last = use_last\n",
    "        self.embeddings = nn.Embedding(vocab_size, embedding_dim, padding_idx=0)\n",
    "        self.rnn = nn.RNN(embedding_dim, hidden_dim, num_layers=2, batch_first=True, )\n",
    "        self.linear = nn.Linear(hidden_dim, 1)\n",
    "        self.dropout = nn.Dropout(0.2)\n",
    "        \n",
    "    def forward(self, x):\n",
    "        x = self.embeddings(x)\n",
    "        x = self.dropout(x)\n",
    "\n",
    "        rnn_out, ht = self.rnn(x) \n",
    "        # rnn_out: тензор с выходными фичами с последнего слоя для каждого t\n",
    "        # h_t: тензор с последними скрытыми состояниями по слоям\n",
    "\n",
    "        if self.use_last:\n",
    "            last_tensor = rnn_out[:,-1,:]\n",
    "        else:\n",
    "            # use mean\n",
    "            last_tensor = torch.mean(rnn_out[:,:], dim=1)\n",
    "    \n",
    "        out = self.linear(last_tensor)\n",
    "        \n",
    "        return torch.sigmoid(out)"
   ]
  },
  {
   "cell_type": "code",
   "execution_count": 84,
   "id": "75ba0b77",
   "metadata": {},
   "outputs": [],
   "source": [
    "# Training\n",
    "epochs = 10\n",
    "batch_size = 512\n",
    "print_batch_n = 100"
   ]
  },
  {
   "cell_type": "code",
   "execution_count": 85,
   "id": "0b4f6a5a",
   "metadata": {},
   "outputs": [],
   "source": [
    "train_dataset = DataWrapper(X_train, y_train.values)\n",
    "train_loader = DataLoader(train_dataset, batch_size=batch_size, shuffle=True)\n",
    "\n",
    "valid_dataset = DataWrapper(X_valid, y_valid.values)\n",
    "valid_loader = DataLoader(valid_dataset, batch_size=batch_size, shuffle=True)"
   ]
  },
  {
   "cell_type": "code",
   "execution_count": 86,
   "id": "fb6ab78d",
   "metadata": {},
   "outputs": [],
   "source": [
    "rnn_init = RNNFixedLen(max_words, 128, 20, use_last=False)\n",
    "optimizer = torch.optim.Adam(rnn_init.parameters(), lr=0.001)\n",
    "criterion = nn.BCELoss()"
   ]
  },
  {
   "cell_type": "code",
   "execution_count": 87,
   "id": "34474f41",
   "metadata": {},
   "outputs": [
    {
     "name": "stdout",
     "output_type": "stream",
     "text": [
      "RNNFixedLen(\n",
      "  (embeddings): Embedding(2000, 128, padding_idx=0)\n",
      "  (rnn): RNN(128, 20, num_layers=2, batch_first=True)\n",
      "  (linear): Linear(in_features=20, out_features=1, bias=True)\n",
      "  (dropout): Dropout(p=0.2, inplace=False)\n",
      ")\n",
      "Parameters: 259861\n"
     ]
    }
   ],
   "source": [
    "print(rnn_init)\n",
    "print(\"Parameters:\", sum([param.nelement() for param in rnn_init.parameters()]))"
   ]
  },
  {
   "cell_type": "code",
   "execution_count": 88,
   "id": "24718d96",
   "metadata": {},
   "outputs": [
    {
     "data": {
      "text/plain": [
       "'cpu'"
      ]
     },
     "execution_count": 88,
     "metadata": {},
     "output_type": "execute_result"
    }
   ],
   "source": [
    "device = 'cuda' if torch.cuda.is_available() else 'cpu'\n",
    "rnn_init.to(device)\n",
    "device"
   ]
  },
  {
   "cell_type": "code",
   "execution_count": 89,
   "id": "1bd371d3",
   "metadata": {},
   "outputs": [
    {
     "name": "stdout",
     "output_type": "stream",
     "text": [
      "Epoch [1/10]. Step [39/39]. Loss: 0.284. Acc: 0.932. Test loss: 0.466. Test acc: 0.931\n",
      "Epoch [2/10]. Step [39/39]. Loss: 0.276. Acc: 0.932. Test loss: 0.228. Test acc: 0.931\n",
      "Epoch [3/10]. Step [39/39]. Loss: 0.300. Acc: 0.932. Test loss: 0.367. Test acc: 0.931\n",
      "Epoch [4/10]. Step [39/39]. Loss: 0.290. Acc: 0.932. Test loss: 0.524. Test acc: 0.931\n",
      "Epoch [5/10]. Step [39/39]. Loss: 0.214. Acc: 0.932. Test loss: 0.376. Test acc: 0.931\n",
      "Epoch [6/10]. Step [39/39]. Loss: 0.233. Acc: 0.932. Test loss: 0.544. Test acc: 0.931\n",
      "Epoch [7/10]. Step [39/39]. Loss: 0.249. Acc: 0.932. Test loss: 0.377. Test acc: 0.931\n",
      "Epoch [8/10]. Step [39/39]. Loss: 0.279. Acc: 0.932. Test loss: 0.382. Test acc: 0.931\n",
      "Epoch [9/10]. Step [39/39]. Loss: 0.191. Acc: 0.932. Test loss: 0.234. Test acc: 0.931\n",
      "Epoch [10/10]. Step [39/39]. Loss: 0.190. Acc: 0.932. Test loss: 0.213. Test acc: 0.931\n",
      "Training is finished!\n"
     ]
    }
   ],
   "source": [
    "rnn_init = rnn_init.to(device)\n",
    "rnn_init.train()\n",
    "th = 0.5\n",
    "\n",
    "train_loss_history = []\n",
    "test_loss_history = []\n",
    "\n",
    "\n",
    "for epoch in range(epochs):  \n",
    "    rnn_init.train()\n",
    "    running_items, running_right = 0.0, 0.0\n",
    "    for i, data in enumerate(train_loader):\n",
    "        inputs, labels = data[0].to(device), data[1].to(device)\n",
    "\n",
    "        # обнуляем градиент\n",
    "        optimizer.zero_grad()\n",
    "        outputs = rnn_init(inputs)\n",
    "        \n",
    "        loss = criterion(outputs, labels.float().view(-1, 1))\n",
    "        loss.backward()\n",
    "        optimizer.step()\n",
    "\n",
    "        # подсчет ошибки на обучении\n",
    "        loss = loss.item()\n",
    "        running_items += len(labels)\n",
    "        # подсчет метрики на обучении\n",
    "        pred_labels = torch.squeeze((outputs > th).int())\n",
    "        running_right += (labels == pred_labels).sum()\n",
    "        \n",
    "    # выводим статистику о процессе обучения\n",
    "    rnn_init.eval()\n",
    "    \n",
    "    print(f'Epoch [{epoch + 1}/{epochs}]. ' \\\n",
    "          f'Step [{i + 1}/{len(train_loader)}]. ' \\\n",
    "          f'Loss: {loss:.3f}. ' \\\n",
    "          f'Acc: {running_right / running_items:.3f}', end='. ')\n",
    "    running_loss, running_items, running_right = 0.0, 0.0, 0.0\n",
    "    train_loss_history.append(loss)\n",
    "\n",
    "    # выводим статистику на тестовых данных\n",
    "    test_running_right, test_running_total, test_loss = 0.0, 0.0, 0.0\n",
    "    for j, data in enumerate(valid_loader):\n",
    "        test_labels = data[1].to(device)\n",
    "        test_outputs = rnn_init(data[0].to(device))\n",
    "        \n",
    "        # подсчет ошибки на тесте\n",
    "        test_loss = criterion(test_outputs, test_labels.float().view(-1, 1))\n",
    "        # подсчет метрики на тесте\n",
    "        test_running_total += len(data[1])\n",
    "        pred_test_labels = torch.squeeze((test_outputs > th).int())\n",
    "        test_running_right += (test_labels == pred_test_labels).sum()\n",
    "    \n",
    "    test_loss_history.append(test_loss.item())\n",
    "    print(f'Test loss: {test_loss:.3f}. Test acc: {test_running_right / test_running_total:.3f}')\n",
    "        \n",
    "print('Training is finished!')"
   ]
  },
  {
   "cell_type": "code",
   "execution_count": 90,
   "id": "500f0164",
   "metadata": {},
   "outputs": [],
   "source": [
    "from torch import nn\n",
    "\n",
    "\n",
    "class LSTMFixedLen(nn.Module) :\n",
    "    def __init__(self, vocab_size, embedding_dim=128, hidden_dim=128, use_last=True):\n",
    "        super().__init__()\n",
    "        self.use_last = use_last\n",
    "        self.embeddings = nn.Embedding(vocab_size, embedding_dim, padding_idx=0)\n",
    "        self.lstm = nn.LSTM(embedding_dim, hidden_dim, num_layers=2, batch_first=True)\n",
    "        self.linear = nn.Linear(hidden_dim, 1)\n",
    "        self.dropout = nn.Dropout(0.2)\n",
    "        \n",
    "    def forward(self, x):\n",
    "        x = self.embeddings(x)\n",
    "        x = self.dropout(x)\n",
    "        lstm_out, ht = self.lstm(x)\n",
    "       \n",
    "        if self.use_last:\n",
    "            last_tensor = lstm_out[:,-1,:]\n",
    "        else:\n",
    "            # use mean\n",
    "            last_tensor = torch.mean(lstm_out[:,:], dim=1)\n",
    "    \n",
    "        out = self.linear(last_tensor)\n",
    "        # print(out.shape)\n",
    "        return torch.sigmoid(out)"
   ]
  },
  {
   "cell_type": "code",
   "execution_count": 91,
   "id": "b7a2ce96",
   "metadata": {},
   "outputs": [],
   "source": [
    "lstm_init = LSTMFixedLen(max_words, 128, 20, use_last=False)\n",
    "optimizer = torch.optim.Adam(lstm_init.parameters(), lr=0.001)\n",
    "criterion = nn.BCELoss()"
   ]
  },
  {
   "cell_type": "code",
   "execution_count": 92,
   "id": "ef2bf7af",
   "metadata": {},
   "outputs": [
    {
     "name": "stdout",
     "output_type": "stream",
     "text": [
      "LSTMFixedLen(\n",
      "  (embeddings): Embedding(2000, 128, padding_idx=0)\n",
      "  (lstm): LSTM(128, 20, num_layers=2, batch_first=True)\n",
      "  (linear): Linear(in_features=20, out_features=1, bias=True)\n",
      "  (dropout): Dropout(p=0.2, inplace=False)\n",
      ")\n",
      "Parameters: 271381\n"
     ]
    }
   ],
   "source": [
    "print(lstm_init)\n",
    "print(\"Parameters:\", sum([param.nelement() for param in lstm_init.parameters()]))"
   ]
  },
  {
   "cell_type": "code",
   "execution_count": 93,
   "id": "6b0e791a",
   "metadata": {},
   "outputs": [
    {
     "name": "stdout",
     "output_type": "stream",
     "text": [
      "Epoch [1/10]. Step [39/39]. Loss: 0.505. Acc: 0.578. Test loss: 0.513. Test acc: 0.931\n",
      "Epoch [2/10]. Step [39/39]. Loss: 0.211. Acc: 0.932. Test loss: 0.651. Test acc: 0.931\n",
      "Epoch [3/10]. Step [39/39]. Loss: 0.212. Acc: 0.932. Test loss: 0.381. Test acc: 0.931\n",
      "Epoch [4/10]. Step [39/39]. Loss: 0.349. Acc: 0.932. Test loss: 0.224. Test acc: 0.931\n",
      "Epoch [5/10]. Step [39/39]. Loss: 0.197. Acc: 0.932. Test loss: 0.070. Test acc: 0.931\n",
      "Epoch [6/10]. Step [39/39]. Loss: 0.275. Acc: 0.932. Test loss: 0.225. Test acc: 0.931\n",
      "Epoch [7/10]. Step [39/39]. Loss: 0.260. Acc: 0.932. Test loss: 0.224. Test acc: 0.931\n",
      "Epoch [8/10]. Step [39/39]. Loss: 0.257. Acc: 0.932. Test loss: 0.223. Test acc: 0.931\n",
      "Epoch [9/10]. Step [39/39]. Loss: 0.258. Acc: 0.932. Test loss: 0.351. Test acc: 0.931\n",
      "Epoch [10/10]. Step [39/39]. Loss: 0.192. Acc: 0.932. Test loss: 0.377. Test acc: 0.931\n",
      "Training is finished!\n"
     ]
    }
   ],
   "source": [
    "lstm_init = lstm_init.to(device)\n",
    "lstm_init.train()\n",
    "th = 0.5\n",
    "\n",
    "train_loss_history = []\n",
    "test_loss_history = []\n",
    "\n",
    "\n",
    "for epoch in range(epochs):  \n",
    "    lstm_init.train()\n",
    "    running_items, running_right = 0.0, 0.0\n",
    "    for i, data in enumerate(train_loader, 0):\n",
    "        inputs, labels = data[0].to(device), data[1].to(device)\n",
    "\n",
    "        # обнуляем градиент\n",
    "        optimizer.zero_grad()\n",
    "        outputs = lstm_init(inputs)\n",
    "        \n",
    "        loss = criterion(outputs, labels.float().view(-1, 1))\n",
    "        loss.backward()\n",
    "        optimizer.step()\n",
    "\n",
    "        # подсчет ошибки на обучении\n",
    "        loss = loss.item()\n",
    "        running_items += len(labels)\n",
    "        # подсчет метрики на обучении\n",
    "        pred_labels = torch.squeeze((outputs > th).int())\n",
    "        running_right += (labels == pred_labels).sum()\n",
    "        \n",
    "    # выводим статистику о процессе обучения\n",
    "    lstm_init.eval()\n",
    "    \n",
    "    print(f'Epoch [{epoch + 1}/{epochs}]. ' \\\n",
    "            f'Step [{i + 1}/{len(train_loader)}]. ' \\\n",
    "            f'Loss: {loss:.3f}. ' \\\n",
    "            f'Acc: {running_right / running_items:.3f}', end='. ')\n",
    "    running_loss, running_items, running_right = 0.0, 0.0, 0.0\n",
    "    train_loss_history.append(loss)\n",
    "\n",
    "    # выводим статистику на тестовых данных\n",
    "    test_running_right, test_running_total, test_loss = 0.0, 0.0, 0.0\n",
    "    for j, data in enumerate(valid_loader):\n",
    "        test_labels = data[1].to(device)\n",
    "        test_outputs = lstm_init(data[0].to(device))\n",
    "        \n",
    "        # подсчет ошибки на тесте\n",
    "        test_loss = criterion(test_outputs, test_labels.float().view(-1, 1))\n",
    "        # подсчет метрики на тесте\n",
    "        test_running_total += len(data[1])\n",
    "        pred_test_labels = torch.squeeze((test_outputs > th).int())\n",
    "        test_running_right += (test_labels == pred_test_labels).sum()\n",
    "    \n",
    "    test_loss_history.append(test_loss.item())\n",
    "    print(f'Test loss: {test_loss:.3f}. Test acc: {test_running_right / test_running_total:.3f}')\n",
    "        \n",
    "print('Training is finished!')"
   ]
  },
  {
   "cell_type": "code",
   "execution_count": 94,
   "id": "138273d8",
   "metadata": {},
   "outputs": [
    {
     "data": {
      "image/png": "[encoded data removed]",
      "text/plain": [
       "<Figure size 432x288 with 1 Axes>"
      ]
     },
     "metadata": {
      "needs_background": "light"
     },
     "output_type": "display_data"
    }
   ],
   "source": [
    "import matplotlib.pyplot as plt\n",
    "\n",
    "plt.title('Acc history')\n",
    "plt.grid(True)\n",
    "plt.ylabel('Acc')\n",
    "plt.xlabel('Epoch')\n",
    "plt.plot(train_loss_history, label='train')\n",
    "plt.plot(test_loss_history, label='test')\n",
    "plt.legend();"
   ]
  },
  {
   "cell_type": "code",
   "execution_count": 95,
   "id": "e23aaf69",
   "metadata": {},
   "outputs": [],
   "source": [
    "from torch import nn\n",
    "\n",
    "\n",
    "class GRUFixedLen(nn.Module) :\n",
    "    def __init__(self, vocab_size, embedding_dim=128, hidden_dim=128, use_last=True):\n",
    "        super().__init__()\n",
    "        self.use_last = use_last\n",
    "        self.embeddings = nn.Embedding(vocab_size, embedding_dim, padding_idx=0)\n",
    "        self.gru = nn.GRU(embedding_dim, hidden_dim, num_layers=2, batch_first=True, )\n",
    "        self.linear = nn.Linear(hidden_dim, 1)\n",
    "        self.dropout = nn.Dropout(0.2)\n",
    "        \n",
    "    def forward(self, x):\n",
    "        x = self.embeddings(x)\n",
    "        x = self.dropout(x)\n",
    "        gru_out, ht = self.gru(x)\n",
    "       \n",
    "        if self.use_last:\n",
    "            last_tensor = gru_out[:,-1,:]\n",
    "        else:\n",
    "            # use mean\n",
    "            last_tensor = torch.mean(gru_out[:,:], dim=1)\n",
    "    \n",
    "        out = self.linear(last_tensor)\n",
    "        return torch.sigmoid(out)"
   ]
  },
  {
   "cell_type": "code",
   "execution_count": 96,
   "id": "3204d0fe",
   "metadata": {},
   "outputs": [],
   "source": [
    "gru_init = GRUFixedLen(max_words, 128, 20, use_last=False)\n",
    "optimizer = torch.optim.Adam(gru_init.parameters(), lr=0.001)\n",
    "criterion = nn.BCELoss()"
   ]
  },
  {
   "cell_type": "code",
   "execution_count": 97,
   "id": "052fa54d",
   "metadata": {},
   "outputs": [
    {
     "name": "stdout",
     "output_type": "stream",
     "text": [
      "GRUFixedLen(\n",
      "  (embeddings): Embedding(2000, 128, padding_idx=0)\n",
      "  (gru): GRU(128, 20, num_layers=2, batch_first=True)\n",
      "  (linear): Linear(in_features=20, out_features=1, bias=True)\n",
      "  (dropout): Dropout(p=0.2, inplace=False)\n",
      ")\n",
      "Parameters: 267541\n"
     ]
    }
   ],
   "source": [
    "print(gru_init)\n",
    "print(\"Parameters:\", sum([param.nelement() for param in gru_init.parameters()]))"
   ]
  },
  {
   "cell_type": "code",
   "execution_count": 98,
   "id": "3c391529",
   "metadata": {},
   "outputs": [
    {
     "name": "stdout",
     "output_type": "stream",
     "text": [
      "Epoch [1/10]. Step [39/39]. Loss: 0.422. Acc: 0.608. Test loss: 0.355. Test acc: 0.931\n",
      "Epoch [2/10]. Step [39/39]. Loss: 0.291. Acc: 0.932. Test loss: 0.226. Test acc: 0.931\n",
      "Epoch [3/10]. Step [39/39]. Loss: 0.273. Acc: 0.932. Test loss: 0.225. Test acc: 0.931\n",
      "Epoch [4/10]. Step [39/39]. Loss: 0.267. Acc: 0.932. Test loss: 0.528. Test acc: 0.931\n",
      "Epoch [5/10]. Step [39/39]. Loss: 0.200. Acc: 0.932. Test loss: 0.377. Test acc: 0.931\n",
      "Epoch [6/10]. Step [39/39]. Loss: 0.287. Acc: 0.932. Test loss: 0.065. Test acc: 0.931\n",
      "Epoch [7/10]. Step [39/39]. Loss: 0.275. Acc: 0.932. Test loss: 0.065. Test acc: 0.931\n",
      "Epoch [8/10]. Step [39/39]. Loss: 0.233. Acc: 0.932. Test loss: 0.176. Test acc: 0.931\n",
      "Epoch [9/10]. Step [39/39]. Loss: 0.237. Acc: 0.932. Test loss: 0.227. Test acc: 0.931\n",
      "Epoch [10/10]. Step [39/39]. Loss: 0.223. Acc: 0.932. Test loss: 0.222. Test acc: 0.931\n",
      "Training is finished!\n"
     ]
    }
   ],
   "source": [
    "gru_init = gru_init.to(device)\n",
    "gru_init.train()\n",
    "th = 0.5\n",
    "\n",
    "train_loss_history = []\n",
    "test_loss_history = []\n",
    "\n",
    "\n",
    "for epoch in range(epochs): \n",
    "    gru_init.train() \n",
    "    running_items, running_right = 0.0, 0.0\n",
    "    for i, data in enumerate(train_loader, 0):\n",
    "        inputs, labels = data[0].to(device), data[1].to(device)\n",
    "\n",
    "        # обнуляем градиент\n",
    "        optimizer.zero_grad()\n",
    "        outputs = gru_init(inputs)\n",
    "        \n",
    "        loss = criterion(outputs, labels.float().view(-1, 1))\n",
    "        loss.backward()\n",
    "        optimizer.step()\n",
    "\n",
    "        # подсчет ошибки на обучении\n",
    "        loss = loss.item()\n",
    "        running_items += len(labels)\n",
    "        # подсчет метрики на обучении\n",
    "        pred_labels = torch.squeeze((outputs > th).int())\n",
    "        running_right += (labels == pred_labels).sum()\n",
    "        \n",
    "    # выводим статистику о процессе обучения\n",
    "    gru_init.eval()\n",
    "    \n",
    "    print(f'Epoch [{epoch + 1}/{epochs}]. ' \\\n",
    "          f'Step [{i + 1}/{len(train_loader)}]. ' \\\n",
    "          f'Loss: {loss:.3f}. ' \\\n",
    "          f'Acc: {running_right / running_items:.3f}', end='. ')\n",
    "    running_loss, running_items, running_right = 0.0, 0.0, 0.0\n",
    "    train_loss_history.append(loss)\n",
    "\n",
    "    # выводим статистику на тестовых данных\n",
    "    test_running_right, test_running_total, test_loss = 0.0, 0.0, 0.0\n",
    "    for j, data in enumerate(valid_loader):\n",
    "        test_labels = data[1].to(device)\n",
    "        test_outputs = gru_init(data[0].to(device))\n",
    "        \n",
    "        # подсчет ошибки на тесте\n",
    "        test_loss = criterion(test_outputs, test_labels.float().view(-1, 1))\n",
    "        # подсчет метрики на тесте\n",
    "        test_running_total += len(data[1])\n",
    "        pred_test_labels = torch.squeeze((test_outputs > th).int())\n",
    "        test_running_right += (test_labels == pred_test_labels).sum()\n",
    "    \n",
    "    test_loss_history.append(test_loss.item())\n",
    "    print(f'Test loss: {test_loss:.3f}. Test acc: {test_running_right / test_running_total:.3f}')\n",
    "            \n",
    "print('Training is finished!')"
   ]
  },
  {
   "cell_type": "code",
   "execution_count": 99,
   "id": "4a6724cf",
   "metadata": {},
   "outputs": [
    {
     "data": {
      "image/png": "[encoded data removed]",
      "text/plain": [
       "<Figure size 432x288 with 1 Axes>"
      ]
     },
     "metadata": {
      "needs_background": "light"
     },
     "output_type": "display_data"
    }
   ],
   "source": [
    "import matplotlib.pyplot as plt\n",
    "\n",
    "plt.title('Acc history')\n",
    "plt.grid(True)\n",
    "plt.ylabel('Acc')\n",
    "plt.xlabel('Epoch')\n",
    "plt.plot(train_loss_history, label='train')\n",
    "plt.plot(test_loss_history, label='test')\n",
    "plt.legend();"
   ]
  },
  {
   "cell_type": "code",
   "execution_count": null,
   "id": "bd332dc1",
   "metadata": {},
   "outputs": [],
   "source": []
  }
 ],
 "metadata": {
  "kernelspec": {
   "display_name": "Python 3 (ipykernel)",
   "language": "python",
   "name": "python3"
  },
  "language_info": {
   "codemirror_mode": {
    "name": "ipython",
    "version": 3
   },
   "file_extension": ".py",
   "mimetype": "text/x-python",
   "name": "python",
   "nbconvert_exporter": "python",
   "pygments_lexer": "ipython3",
   "version": "3.8.13"
  }
 },
 "nbformat": 4,
 "nbformat_minor": 5
}
