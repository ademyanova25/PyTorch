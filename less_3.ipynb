{
 "cells": [
  {
   "cell_type": "code",
   "execution_count": 227,
   "id": "c7c926df",
   "metadata": {},
   "outputs": [],
   "source": [
    "import warnings\n",
    "\n",
    "warnings.filterwarnings('ignore')"
   ]
  },
  {
   "cell_type": "code",
   "execution_count": 228,
   "id": "7d91cea3",
   "metadata": {},
   "outputs": [],
   "source": [
    "import math\n",
    "import torch\n",
    "import numpy as np\n",
    "import torch.nn as nn\n"
   ]
  },
  {
   "cell_type": "code",
   "execution_count": 229,
   "id": "ba517b40",
   "metadata": {},
   "outputs": [],
   "source": [
    "from sklearn.datasets import fetch_california_housing\n",
    "from sklearn.model_selection import train_test_split\n",
    "from sklearn.preprocessing import StandardScaler\n"
   ]
  },
  {
   "cell_type": "code",
   "execution_count": 230,
   "id": "a66b24f4",
   "metadata": {},
   "outputs": [],
   "source": [
    "fletch_X, fletch_y = fetch_california_housing(return_X_y=True, as_frame=True)"
   ]
  },
  {
   "cell_type": "code",
   "execution_count": 231,
   "id": "e0086943",
   "metadata": {},
   "outputs": [],
   "source": [
    "X_train, X_test, y_train, y_test = train_test_split(fletch_X.to_numpy(), fletch_y.to_numpy(), test_size = 0.25, random_state = 13)"
   ]
  },
  {
   "cell_type": "code",
   "execution_count": 232,
   "id": "ba86fd51",
   "metadata": {},
   "outputs": [],
   "source": [
    "class MyDataset(torch.utils.data.Dataset):\n",
    "  \n",
    "    def __init__(self, X, y):\n",
    "        self.X = torch.Tensor(X)\n",
    "        self.y = torch.from_numpy(y).float()\n",
    "\n",
    "    def __len__(self):\n",
    "        return self.X.shape[0]\n",
    "  \n",
    "    def __getitem__(self, index):\n",
    "        return (self.X[index], self.y[index])"
   ]
  },
  {
   "cell_type": "code",
   "execution_count": 233,
   "id": "f85dabcf",
   "metadata": {},
   "outputs": [
    {
     "name": "stdout",
     "output_type": "stream",
     "text": [
      "15480\n",
      "5160\n"
     ]
    }
   ],
   "source": [
    "data_train = MyDataset(X_train, y_train)\n",
    "data_test = MyDataset(X_test, y_test)\n",
    "\n",
    "print(len(data_train))\n",
    "print(len(data_test))"
   ]
  },
  {
   "cell_type": "code",
   "execution_count": 265,
   "id": "b0753909",
   "metadata": {},
   "outputs": [],
   "source": [
    "train_loader = torch.utils.data.DataLoader(data_train,\n",
    "                          batch_size=30,\n",
    "                          shuffle=False)"
   ]
  },
  {
   "cell_type": "code",
   "execution_count": 266,
   "id": "b7587836",
   "metadata": {},
   "outputs": [],
   "source": [
    "test_loader = torch.utils.data.DataLoader(data_test,\n",
    "                          batch_size=30,\n",
    "                          shuffle=False)"
   ]
  },
  {
   "cell_type": "code",
   "execution_count": 267,
   "id": "a287c64d",
   "metadata": {},
   "outputs": [
    {
     "name": "stdout",
     "output_type": "stream",
     "text": [
      "516\n",
      "172\n"
     ]
    }
   ],
   "source": [
    "print(len(train_loader))\n",
    "print(len(test_loader))"
   ]
  },
  {
   "cell_type": "code",
   "execution_count": 268,
   "id": "9e155928",
   "metadata": {},
   "outputs": [],
   "source": [
    "import torch.nn.functional as F"
   ]
  },
  {
   "cell_type": "code",
   "execution_count": 269,
   "id": "ec38d18f",
   "metadata": {},
   "outputs": [],
   "source": [
    "class MyModel(nn.Module):\n",
    "    def __init__(self, input_dim, hidden_dim, output_dim):\n",
    "        super().__init__()\n",
    "        self.fc1 = nn.Linear(input_dim, 3*hidden_dim)\n",
    "        self.relu = nn.ReLU()\n",
    "        self.bn = nn.BatchNorm1d(3*hidden_dim)\n",
    "        self.dp = nn.Dropout(0.1)\n",
    "        self.fc2 = nn.Linear(3*hidden_dim, output_dim)\n",
    "        \n",
    "        \n",
    "    def forward(self, x):\n",
    "        x = self.fc1(x)\n",
    "        x = self.relu(x)\n",
    "        x = self.bn(x)\n",
    "        x = self.dp(x)\n",
    "        x = self.fc2(x)\n",
    "        return x\n",
    "\n",
    "\n",
    "    def predict(self, x):\n",
    "        x = self.fc1(x)\n",
    "        x = self.relu(x)\n",
    "        x = self.bn(x)\n",
    "        x = self.dp(x)\n",
    "        x = self.fc2(x)\n",
    "        return x"
   ]
  },
  {
   "cell_type": "code",
   "execution_count": 270,
   "id": "e55f97ea",
   "metadata": {},
   "outputs": [
    {
     "name": "stdout",
     "output_type": "stream",
     "text": [
      "MyModel(\n",
      "  (fc1): Linear(in_features=8, out_features=300, bias=True)\n",
      "  (relu): ReLU()\n",
      "  (bn): BatchNorm1d(300, eps=1e-05, momentum=0.1, affine=True, track_running_stats=True)\n",
      "  (dp): Dropout(p=0.1, inplace=False)\n",
      "  (fc2): Linear(in_features=300, out_features=1, bias=True)\n",
      ")\n"
     ]
    }
   ],
   "source": [
    "net = MyModel(8, 100, 1)\n",
    "print(net)"
   ]
  },
  {
   "cell_type": "code",
   "execution_count": 271,
   "id": "40c379ab",
   "metadata": {},
   "outputs": [],
   "source": [
    "optimizer_SGD = torch.optim.SGD(net.parameters(), lr=1e-4)\n",
    "optimizer_Adam = torch.optim.Adam(net.parameters(), lr=1e-4)\n",
    "optimizer_RMSprop = torch.optim.RMSprop(net.parameters(), lr=1e-4)\n",
    "criterion = nn.MSELoss()"
   ]
  },
  {
   "cell_type": "code",
   "execution_count": 272,
   "id": "1d8b86cf",
   "metadata": {},
   "outputs": [],
   "source": [
    "optimizers = [['SGD', optimizer_SGD], ['Adam', optimizer_Adam], ['RMSprop', optimizer_RMSprop]]"
   ]
  },
  {
   "cell_type": "code",
   "execution_count": 273,
   "id": "3ca5d229",
   "metadata": {},
   "outputs": [],
   "source": [
    "import pandas as pd\n",
    "from sklearn.metrics import r2_score"
   ]
  },
  {
   "cell_type": "code",
   "execution_count": 274,
   "id": "b643f8e9",
   "metadata": {},
   "outputs": [],
   "source": [
    "data_opt = pd.DataFrame(columns=['opt', 'score','epoch'])"
   ]
  },
  {
   "cell_type": "code",
   "execution_count": 277,
   "id": "7cb9e9b2",
   "metadata": {
    "scrolled": false
   },
   "outputs": [
    {
     "name": "stdout",
     "output_type": "stream",
     "text": [
      "Epoch [1/10]. Step [1/516]. Loss: 0.014. R2: 0.746. Test R2: 0.477\n",
      "Epoch [1/10]. Step [301/516]. Loss: 0.035. R2: 0.099. Test R2: 0.241\n",
      "Epoch [2/10]. Step [1/516]. Loss: 0.035. R2: 0.358. Test R2: 0.210\n",
      "Epoch [2/10]. Step [301/516]. Loss: 0.035. R2: 0.207. Test R2: 0.243\n",
      "Epoch [3/10]. Step [1/516]. Loss: 0.034. R2: 0.379. Test R2: 0.311\n",
      "Epoch [3/10]. Step [301/516]. Loss: 0.034. R2: 0.157. Test R2: -0.006\n",
      "Epoch [4/10]. Step [1/516]. Loss: 0.026. R2: 0.527. Test R2: 0.284\n",
      "Epoch [4/10]. Step [301/516]. Loss: 0.032. R2: 0.085. Test R2: 0.212\n",
      "Epoch [5/10]. Step [1/516]. Loss: 0.031. R2: 0.441. Test R2: 0.208\n",
      "Epoch [5/10]. Step [301/516]. Loss: 0.033. R2: 0.146. Test R2: -0.041\n",
      "Epoch [6/10]. Step [1/516]. Loss: 0.028. R2: 0.495. Test R2: 0.176\n",
      "Epoch [6/10]. Step [301/516]. Loss: 0.032. R2: 0.160. Test R2: 0.378\n",
      "Epoch [7/10]. Step [1/516]. Loss: 0.033. R2: 0.396. Test R2: 0.343\n",
      "Epoch [7/10]. Step [301/516]. Loss: 0.033. R2: 0.129. Test R2: 0.245\n",
      "Epoch [8/10]. Step [1/516]. Loss: 0.028. R2: 0.487. Test R2: 0.350\n",
      "Epoch [8/10]. Step [301/516]. Loss: 0.033. R2: -0.032. Test R2: 0.307\n",
      "Epoch [9/10]. Step [1/516]. Loss: 0.036. R2: 0.342. Test R2: 0.170\n",
      "Epoch [9/10]. Step [301/516]. Loss: 0.036. R2: 0.062. Test R2: 0.405\n",
      "Epoch [10/10]. Step [1/516]. Loss: 0.036. R2: 0.358. Test R2: 0.270\n",
      "Epoch [10/10]. Step [301/516]. Loss: 0.035. R2: 0.193. Test R2: 0.229\n",
      "Epoch [1/10]. Step [1/516]. Loss: 0.036. R2: 0.353. Test R2: 0.200\n",
      "Epoch [1/10]. Step [301/516]. Loss: 0.025. R2: 0.474. Test R2: 0.726\n",
      "Epoch [2/10]. Step [1/516]. Loss: 0.015. R2: 0.730. Test R2: 0.429\n",
      "Epoch [2/10]. Step [301/516]. Loss: 0.021. R2: 0.564. Test R2: 0.729\n",
      "Epoch [3/10]. Step [1/516]. Loss: 0.013. R2: 0.759. Test R2: 0.457\n",
      "Epoch [3/10]. Step [301/516]. Loss: 0.020. R2: 0.660. Test R2: 0.771\n",
      "Epoch [4/10]. Step [1/516]. Loss: 0.015. R2: 0.736. Test R2: 0.441\n",
      "Epoch [4/10]. Step [301/516]. Loss: 0.019. R2: 0.600. Test R2: 0.776\n",
      "Epoch [5/10]. Step [1/516]. Loss: 0.017. R2: 0.697. Test R2: 0.454\n",
      "Epoch [5/10]. Step [301/516]. Loss: 0.019. R2: 0.659. Test R2: 0.772\n",
      "Epoch [6/10]. Step [1/516]. Loss: 0.015. R2: 0.729. Test R2: 0.467\n",
      "Epoch [6/10]. Step [301/516]. Loss: 0.019. R2: 0.576. Test R2: 0.776\n",
      "Epoch [7/10]. Step [1/516]. Loss: 0.014. R2: 0.745. Test R2: 0.468\n",
      "Epoch [7/10]. Step [301/516]. Loss: 0.018. R2: 0.628. Test R2: 0.781\n",
      "Epoch [8/10]. Step [1/516]. Loss: 0.017. R2: 0.693. Test R2: 0.467\n",
      "Epoch [8/10]. Step [301/516]. Loss: 0.018. R2: 0.650. Test R2: 0.744\n",
      "Epoch [9/10]. Step [1/516]. Loss: 0.016. R2: 0.714. Test R2: 0.468\n",
      "Epoch [9/10]. Step [301/516]. Loss: 0.018. R2: 0.664. Test R2: 0.785\n",
      "Epoch [10/10]. Step [1/516]. Loss: 0.015. R2: 0.722. Test R2: 0.474\n",
      "Epoch [10/10]. Step [301/516]. Loss: 0.018. R2: 0.579. Test R2: 0.761\n",
      "Epoch [1/10]. Step [1/516]. Loss: 0.013. R2: 0.757. Test R2: 0.437\n",
      "Epoch [1/10]. Step [301/516]. Loss: 0.018. R2: 0.616. Test R2: 0.753\n",
      "Epoch [2/10]. Step [1/516]. Loss: 0.014. R2: 0.755. Test R2: 0.506\n",
      "Epoch [2/10]. Step [301/516]. Loss: 0.018. R2: 0.674. Test R2: 0.770\n",
      "Epoch [3/10]. Step [1/516]. Loss: 0.013. R2: 0.770. Test R2: 0.518\n",
      "Epoch [3/10]. Step [301/516]. Loss: 0.018. R2: 0.660. Test R2: 0.749\n",
      "Epoch [4/10]. Step [1/516]. Loss: 0.015. R2: 0.733. Test R2: 0.510\n",
      "Epoch [4/10]. Step [301/516]. Loss: 0.018. R2: 0.586. Test R2: 0.735\n",
      "Epoch [5/10]. Step [1/516]. Loss: 0.013. R2: 0.769. Test R2: 0.518\n",
      "Epoch [5/10]. Step [301/516]. Loss: 0.017. R2: 0.610. Test R2: 0.750\n",
      "Epoch [6/10]. Step [1/516]. Loss: 0.012. R2: 0.780. Test R2: 0.544\n",
      "Epoch [6/10]. Step [301/516]. Loss: 0.018. R2: 0.687. Test R2: 0.762\n",
      "Epoch [7/10]. Step [1/516]. Loss: 0.013. R2: 0.765. Test R2: 0.548\n",
      "Epoch [7/10]. Step [301/516]. Loss: 0.017. R2: 0.628. Test R2: 0.727\n",
      "Epoch [8/10]. Step [1/516]. Loss: 0.018. R2: 0.671. Test R2: 0.526\n",
      "Epoch [8/10]. Step [301/516]. Loss: 0.018. R2: 0.620. Test R2: 0.774\n",
      "Epoch [9/10]. Step [1/516]. Loss: 0.015. R2: 0.721. Test R2: 0.519\n",
      "Epoch [9/10]. Step [301/516]. Loss: 0.017. R2: 0.594. Test R2: 0.746\n",
      "Epoch [10/10]. Step [1/516]. Loss: 0.016. R2: 0.713. Test R2: 0.554\n",
      "Epoch [10/10]. Step [301/516]. Loss: 0.017. R2: 0.679. Test R2: 0.749\n",
      "Training is finished!\n"
     ]
    }
   ],
   "source": [
    "num_epochs = 10\n",
    "\n",
    "for name, opt in optimizers:\n",
    "    for epoch in range(num_epochs):  \n",
    "        running_loss, running_items = 0.0, 0.0\n",
    "        for i, data in enumerate(train_loader):\n",
    "            inputs, labels = data[0], data[1]\n",
    "            labels = labels.reshape(-1, 1)\n",
    "\n",
    "            opt.zero_grad()\n",
    "\n",
    "            outputs = net(inputs)\n",
    "            loss = criterion(outputs, labels)\n",
    "            loss.backward()\n",
    "            opt.step()\n",
    "\n",
    "            running_loss += loss.item()\n",
    "            running_items += len(labels)\n",
    "\n",
    "            if i % 300 == 0:    \n",
    "                net.eval()\n",
    "                true_labels = np.array([labels[j][0] for j in range(len(labels))])\n",
    "                pred_labels = np.array([outputs.detach().numpy()[j][0] for j in range(len(outputs))])\n",
    "\n",
    "                print(f'Epoch [{epoch + 1}/{num_epochs}]. ' \\\n",
    "                      f'Step [{i + 1}/{len(train_loader)}]. ' \\\n",
    "                      f'Loss: {running_loss / running_items:.3f}. ' \\\n",
    "                      f'R2: {r2_score(true_labels, pred_labels):.3f}', end='. ')\n",
    "\n",
    "                test_running_total = 0.0\n",
    "                for i, data in enumerate(test_loader):            \n",
    "                    test_outputs = net(data[0])\n",
    "                    test_labels = data[1].reshape(-1, 1)\n",
    "                    test_running_total += len(data[1])\n",
    "\n",
    "                    test_true_labels = np.array([test_labels[j][0] for j in range(len(test_labels))])\n",
    "                    test_pred_labels = np.array([test_outputs.detach().numpy()[j][0] for j in range(len(test_outputs))])\n",
    "\n",
    "                score = r2_score(test_true_labels, test_pred_labels)\n",
    "                data_opt = data_opt.append({'opt': name, 'score': score, 'epoch': epoch}, ignore_index=True)\n",
    "                print(f'Test R2: {r2_score(test_true_labels, test_pred_labels):.3f}')\n",
    "                net.train()\n",
    "\n",
    "\n",
    "print('Training is finished!')"
   ]
  },
  {
   "cell_type": "code",
   "execution_count": 278,
   "id": "44912338",
   "metadata": {},
   "outputs": [
    {
     "data": {
      "text/html": [
       "<div>\n",
       "<style scoped>\n",
       "    .dataframe tbody tr th:only-of-type {\n",
       "        vertical-align: middle;\n",
       "    }\n",
       "\n",
       "    .dataframe tbody tr th {\n",
       "        vertical-align: top;\n",
       "    }\n",
       "\n",
       "    .dataframe thead th {\n",
       "        text-align: right;\n",
       "    }\n",
       "</style>\n",
       "<table border=\"1\" class=\"dataframe\">\n",
       "  <thead>\n",
       "    <tr style=\"text-align: right;\">\n",
       "      <th></th>\n",
       "      <th>opt</th>\n",
       "      <th>score</th>\n",
       "      <th>epoch</th>\n",
       "    </tr>\n",
       "  </thead>\n",
       "  <tbody>\n",
       "    <tr>\n",
       "      <th>53</th>\n",
       "      <td>RMSprop</td>\n",
       "      <td>0.825551</td>\n",
       "      <td>6</td>\n",
       "    </tr>\n",
       "    <tr>\n",
       "      <th>41</th>\n",
       "      <td>RMSprop</td>\n",
       "      <td>0.809947</td>\n",
       "      <td>0</td>\n",
       "    </tr>\n",
       "    <tr>\n",
       "      <th>57</th>\n",
       "      <td>RMSprop</td>\n",
       "      <td>0.809853</td>\n",
       "      <td>8</td>\n",
       "    </tr>\n",
       "    <tr>\n",
       "      <th>35</th>\n",
       "      <td>Adam</td>\n",
       "      <td>0.808281</td>\n",
       "      <td>7</td>\n",
       "    </tr>\n",
       "    <tr>\n",
       "      <th>39</th>\n",
       "      <td>Adam</td>\n",
       "      <td>0.799782</td>\n",
       "      <td>9</td>\n",
       "    </tr>\n",
       "    <tr>\n",
       "      <th>...</th>\n",
       "      <td>...</td>\n",
       "      <td>...</td>\n",
       "      <td>...</td>\n",
       "    </tr>\n",
       "    <tr>\n",
       "      <th>4</th>\n",
       "      <td>SGD</td>\n",
       "      <td>-1.380542</td>\n",
       "      <td>2</td>\n",
       "    </tr>\n",
       "    <tr>\n",
       "      <th>3</th>\n",
       "      <td>SGD</td>\n",
       "      <td>-1.623613</td>\n",
       "      <td>1</td>\n",
       "    </tr>\n",
       "    <tr>\n",
       "      <th>2</th>\n",
       "      <td>SGD</td>\n",
       "      <td>-1.911747</td>\n",
       "      <td>1</td>\n",
       "    </tr>\n",
       "    <tr>\n",
       "      <th>1</th>\n",
       "      <td>SGD</td>\n",
       "      <td>-2.018879</td>\n",
       "      <td>0</td>\n",
       "    </tr>\n",
       "    <tr>\n",
       "      <th>0</th>\n",
       "      <td>SGD</td>\n",
       "      <td>-18.570211</td>\n",
       "      <td>0</td>\n",
       "    </tr>\n",
       "  </tbody>\n",
       "</table>\n",
       "<p>120 rows × 3 columns</p>\n",
       "</div>"
      ],
      "text/plain": [
       "        opt      score epoch\n",
       "53  RMSprop   0.825551     6\n",
       "41  RMSprop   0.809947     0\n",
       "57  RMSprop   0.809853     8\n",
       "35     Adam   0.808281     7\n",
       "39     Adam   0.799782     9\n",
       "..      ...        ...   ...\n",
       "4       SGD  -1.380542     2\n",
       "3       SGD  -1.623613     1\n",
       "2       SGD  -1.911747     1\n",
       "1       SGD  -2.018879     0\n",
       "0       SGD -18.570211     0\n",
       "\n",
       "[120 rows x 3 columns]"
      ]
     },
     "execution_count": 278,
     "metadata": {},
     "output_type": "execute_result"
    }
   ],
   "source": [
    "data_opt.sort_values('score', ascending=False)"
   ]
  }
 ],
 "metadata": {
  "kernelspec": {
   "display_name": "Python 3 (ipykernel)",
   "language": "python",
   "name": "python3"
  },
  "language_info": {
   "codemirror_mode": {
    "name": "ipython",
    "version": 3
   },
   "file_extension": ".py",
   "mimetype": "text/x-python",
   "name": "python",
   "nbconvert_exporter": "python",
   "pygments_lexer": "ipython3",
   "version": "3.8.13"
  }
 },
 "nbformat": 4,
 "nbformat_minor": 5
}
