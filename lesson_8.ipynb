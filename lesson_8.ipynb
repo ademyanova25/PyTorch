{
 "cells": [
  {
   "cell_type": "code",
   "execution_count": 1,
   "id": "b29c908d",
   "metadata": {},
   "outputs": [],
   "source": [
    "import os\n",
    "import numpy as np\n",
    "import math\n",
    "\n",
    "from torch.utils.data import DataLoader\n",
    "import torchvision.transforms as transforms\n",
    "from torchvision import datasets\n",
    "from torch.autograd import Variable\n",
    "\n",
    "import torch.nn as nn\n",
    "import torch\n",
    "\n",
    "import matplotlib.pyplot as plt\n",
    "from IPython import display\n",
    "from torchvision.utils import save_image, make_grid"
   ]
  },
  {
   "cell_type": "code",
   "execution_count": 2,
   "id": "832749ac",
   "metadata": {},
   "outputs": [
    {
     "data": {
      "text/plain": [
       "'cpu'"
      ]
     },
     "execution_count": 2,
     "metadata": {},
     "output_type": "execute_result"
    }
   ],
   "source": [
    "device = 'cuda' if torch.cuda.is_available() else 'cpu'\n",
    "device"
   ]
  },
  {
   "cell_type": "code",
   "execution_count": 166,
   "id": "af71b2e0",
   "metadata": {},
   "outputs": [],
   "source": [
    "real_data = torch.utils.data.DataLoader(\n",
    "    datasets.MNIST(\n",
    "        \"./data/mnist\",\n",
    "        train=True,\n",
    "        download=True,\n",
    "        transform=transforms.Compose([\n",
    "            transforms.Resize(img_size),\n",
    "            transforms.ToTensor(),\n",
    "            transforms.Normalize([0.5], [0.5])\n",
    "        ]),\n",
    "    ),\n",
    "    batch_size=batch_size,\n",
    "    shuffle=True,\n",
    ")"
   ]
  },
  {
   "cell_type": "code",
   "execution_count": 102,
   "id": "fbce2eab",
   "metadata": {},
   "outputs": [
    {
     "name": "stdout",
     "output_type": "stream",
     "text": [
      "img_shape = (1, 28, 28)\n",
      "label shape = torch.Size([])\n",
      "img_shape after squeeze = (28, 28)\n"
     ]
    },
    {
     "data": {
      "image/png": "[encoded data removed]",
      "text/plain": [
       "<Figure size 864x288 with 3 Axes>"
      ]
     },
     "metadata": {
      "needs_background": "light"
     },
     "output_type": "display_data"
    }
   ],
   "source": [
    "dataiter = iter(real_data)\n",
    "images, labels = dataiter.next()\n",
    "images = images.numpy()\n",
    "\n",
    "print(f'img_shape = {images[0].shape}')\n",
    "print(f'label shape = {labels[0].shape}')\n",
    "\n",
    "# np.squeeze - позволяет избавиться от размерности где равно 1 в тензоре\n",
    "img = np.squeeze(images[0])\n",
    "print(f'img_shape after squeeze = {img.shape}')\n",
    "\n",
    "img1 = np.squeeze(images[1])\n",
    "img2 = np.squeeze(images[2])\n",
    "\n",
    "fig, (ax1, ax2, ax3) = plt.subplots(1, 3, figsize=(12,4))\n",
    "ax1.imshow(img, cmap='gray')\n",
    "ax2.imshow(img1, cmap='gray')\n",
    "ax3.imshow(img2, cmap='gray');"
   ]
  },
  {
   "cell_type": "code",
   "execution_count": 103,
   "id": "9099208f",
   "metadata": {},
   "outputs": [],
   "source": [
    "# Функция для вывода и сохранения изображения\n",
    "def sample_image(static_sample, save_img = False):\n",
    "    npimg = make_grid(static_sample.data[:25]).cpu().numpy()\n",
    "    fig, ax = plt.subplots(figsize=(7, 7))\n",
    "    ax.imshow(np.transpose(npimg, (1,2,0)), interpolation=\"nearest\")\n",
    "    if save_img:\n",
    "        save_image(gen_imgs.data[:25], f\"images/{batches_done}.png\", nrow=5, normalize=True)"
   ]
  },
  {
   "cell_type": "code",
   "execution_count": 104,
   "id": "556e7636",
   "metadata": {},
   "outputs": [],
   "source": [
    "#y = sin(x)/x - x/10\n",
    "def my_func(x):\n",
    "    return (torch.sin(x)/x) - (x/10)"
   ]
  },
  {
   "cell_type": "code",
   "execution_count": 184,
   "id": "6d3c0121",
   "metadata": {},
   "outputs": [],
   "source": [
    "train_data = torch.zeros((1024, 2))"
   ]
  },
  {
   "cell_type": "code",
   "execution_count": 185,
   "id": "bba09e01",
   "metadata": {},
   "outputs": [],
   "source": [
    "train_data[:, 0] = 30 * torch.rand(1024) - 15"
   ]
  },
  {
   "cell_type": "code",
   "execution_count": 186,
   "id": "b1570a47",
   "metadata": {},
   "outputs": [],
   "source": [
    "train_data[:, 1] = my_func(train_data[:, 0])"
   ]
  },
  {
   "cell_type": "code",
   "execution_count": 187,
   "id": "f9a98110",
   "metadata": {},
   "outputs": [],
   "source": [
    "train_labels = torch.zeros(1024)"
   ]
  },
  {
   "cell_type": "code",
   "execution_count": 188,
   "id": "ad159753",
   "metadata": {},
   "outputs": [],
   "source": [
    "train_set = [(train_data[i], train_labels[i]) for i in range(1024)]"
   ]
  },
  {
   "cell_type": "code",
   "execution_count": 189,
   "id": "bbd3af8d",
   "metadata": {},
   "outputs": [],
   "source": [
    "train_loader = DataLoader(train_set, batch_size=32, shuffle=True)"
   ]
  },
  {
   "cell_type": "code",
   "execution_count": 207,
   "id": "9fab28b8",
   "metadata": {},
   "outputs": [],
   "source": [
    "class Discriminator(nn.Module):\n",
    "    def __init__(self):\n",
    "        super().__init__()\n",
    "\n",
    "        self.model = nn.Sequential(\n",
    "            nn.Linear(2, 256),\n",
    "            nn.ReLU(),\n",
    "            nn.Linear(256, 128),\n",
    "            nn.ReLU(),\n",
    "            nn.Linear(128, 1),\n",
    "            nn.Sigmoid(),\n",
    "        )\n",
    "  \n",
    "\n",
    "    def forward(self, x):\n",
    "        output = self.model(x)\n",
    "        return output"
   ]
  },
  {
   "cell_type": "code",
   "execution_count": 208,
   "id": "4c3c7023",
   "metadata": {},
   "outputs": [],
   "source": [
    "class Generator(nn.Module):\n",
    "    def __init__(self):\n",
    "        super().__init__()\n",
    "        \n",
    "        self.model = nn.Sequential(\n",
    "            nn.Linear(2, 16),\n",
    "            nn.ReLU(),\n",
    "            nn.Linear(16, 32),\n",
    "            nn.ReLU(),\n",
    "            nn.Linear(32, 2))\n",
    "\n",
    "    def forward(self, x):\n",
    "        output = self.model(x)\n",
    "        return output"
   ]
  },
  {
   "cell_type": "code",
   "execution_count": 213,
   "id": "8cc2e267",
   "metadata": {},
   "outputs": [],
   "source": [
    "n_epochs = 20  # количество эпох\n",
    "lr = 0.002  # шаг обучения\n",
    "\n",
    "batch_size = 32  # размер батча"
   ]
  },
  {
   "cell_type": "code",
   "execution_count": 214,
   "id": "44b6b4a4",
   "metadata": {},
   "outputs": [],
   "source": [
    "generator = Generator().to(device)\n",
    "discriminator = Discriminator().to(device)\n",
    "\n",
    "# Для каждой нейронки свой опитимизатор\n",
    "optimizer_G = torch.optim.Adam(\n",
    "    generator.parameters(),\n",
    "    lr=lr, \n",
    "    betas=(b1, b2)\n",
    ")\n",
    "optimizer_D = torch.optim.Adam(\n",
    "    discriminator.parameters(), \n",
    "    lr=lr, \n",
    "    betas=(b1, b2)\n",
    ")\n",
    "\n",
    "# Но вот функция ошибки у нас будет одна общая\n",
    "adversarial_loss = torch.nn.BCELoss()"
   ]
  },
  {
   "cell_type": "code",
   "execution_count": 235,
   "id": "6288e45d",
   "metadata": {},
   "outputs": [],
   "source": [
    "d_loss_history = []\n",
    "g_loss_history = []"
   ]
  },
  {
   "cell_type": "code",
   "execution_count": 236,
   "id": "1e67d8b6",
   "metadata": {},
   "outputs": [
    {
     "name": "stdout",
     "output_type": "stream",
     "text": [
      "[Epoch 19/20] [Batch 22/32]|[D loss: 0.7430170178413391] [G loss: 0.741740882396698]\n"
     ]
    },
    {
     "data": {
      "text/plain": [
       "<Figure size 432x288 with 0 Axes>"
      ]
     },
     "metadata": {},
     "output_type": "display_data"
    },
    {
     "data": {
      "image/png": "[encoded data removed]",
      "text/plain": [
       "<Figure size 432x288 with 1 Axes>"
      ]
     },
     "metadata": {
      "needs_background": "light"
     },
     "output_type": "display_data"
    }
   ],
   "source": [
    "import matplotlib.patches as mpatches\n",
    "\n",
    "\n",
    "for epoch in range(n_epochs):\n",
    "    for i, (real_samples, _) in enumerate(train_loader):\n",
    "        \n",
    "        # Данные для обучения дискриминатора\n",
    "        valid = torch.FloatTensor(batch_size, 1).fill_(1.0).to(device) #real_samples_labels\n",
    "        #latent_space_samples = torch.randn((batch_size, 2))\n",
    "        fake = torch.FloatTensor(batch_size, 1).fill_(0.0).to(device)\n",
    "        \n",
    "        z = torch.FloatTensor(np.random.normal(0, 1, (batch_size, 2))).to(device)\n",
    "        gen_z = generator(z)\n",
    "        \n",
    "        discriminator.zero_grad()\n",
    "        \n",
    "        real_pred = discriminator(real_samples)\n",
    "        d_real_loss = adversarial_loss(real_pred, valid)\n",
    "        fake_pred = discriminator(gen_z)\n",
    "        d_fake_loss = adversarial_loss(fake_pred, fake)\n",
    "        \n",
    "        d_loss = (d_real_loss + d_fake_loss) / 2\n",
    "        d_loss.backward(retain_graph=True)\n",
    "\n",
    "        optimizer_D.zero_grad()\n",
    "        optimizer_D.step()\n",
    "\n",
    "        fake_pred = discriminator(gen_z)\n",
    "        g_loss = adversarial_loss(fake_pred, valid)\n",
    "        g_loss.backward(retain_graph=True)\n",
    "        \n",
    "        optimizer_G.zero_grad()\n",
    "        optimizer_G.step()\n",
    "\n",
    "        batches_done = epoch * len(train_loader) + i\n",
    "            \n",
    "        if batches_done % 10 == 0:\n",
    "            with torch.no_grad():\n",
    "                plt.clf()\n",
    "\n",
    "                display.clear_output(wait=False)\n",
    "                print(f\"[Epoch {epoch}/{n_epochs}] [Batch {i}/{len(train_loader)}]\", end='|')\n",
    "                print(f'[D loss: {d_loss.item()}] [G loss: {g_loss.item()}]') \n",
    "\n",
    "\n",
    "                plt.show()\n",
    "                d_loss = d_loss.cpu().detach()\n",
    "                g_loss = g_loss.cpu().detach()\n",
    "\n",
    "\n",
    "                d_loss_history.append(d_loss)\n",
    "                g_loss_history.append(g_loss)\n",
    "\n",
    "                plt.plot(np.array(d_loss_history), label='D loss')\n",
    "                plt.plot(np.array(g_loss_history), label='G loss')\n",
    "                plt.legend()\n",
    "                plt.show()         "
   ]
  },
  {
   "cell_type": "code",
   "execution_count": null,
   "id": "764aaff1",
   "metadata": {},
   "outputs": [],
   "source": []
  },
  {
   "cell_type": "code",
   "execution_count": null,
   "id": "780d2612",
   "metadata": {},
   "outputs": [],
   "source": []
  }
 ],
 "metadata": {
  "kernelspec": {
   "display_name": "Python 3 (ipykernel)",
   "language": "python",
   "name": "python3"
  },
  "language_info": {
   "codemirror_mode": {
    "name": "ipython",
    "version": 3
   },
   "file_extension": ".py",
   "mimetype": "text/x-python",
   "name": "python",
   "nbconvert_exporter": "python",
   "pygments_lexer": "ipython3",
   "version": "3.8.13"
  }
 },
 "nbformat": 4,
 "nbformat_minor": 5
}
